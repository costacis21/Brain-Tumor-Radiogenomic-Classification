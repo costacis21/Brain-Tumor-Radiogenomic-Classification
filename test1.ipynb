{
  "cells": [
    {
      "cell_type": "markdown",
      "metadata": {
        "id": "view-in-github",
        "colab_type": "text"
      },
      "source": [
        "<a href=\"https://colab.research.google.com/github/costacis21/Brain-Tumor-Radiogenomic-Classification/blob/main/test1.ipynb\" target=\"_parent\"><img src=\"https://colab.research.google.com/assets/colab-badge.svg\" alt=\"Open In Colab\"/></a>"
      ]
    },
    {
      "cell_type": "code",
      "execution_count": 2,
      "metadata": {
        "colab": {
          "base_uri": "https://localhost:8080/"
        },
        "id": "t1rE2OiL_beu",
        "outputId": "7a8a4e03-b9ff-46a2-af54-93701fcb0e57"
      },
      "outputs": [
        {
          "output_type": "stream",
          "name": "stdout",
          "text": [
            "Collecting tensorflow-io==0.23.1\n",
            "  Downloading tensorflow_io-0.23.1-cp37-cp37m-manylinux_2_12_x86_64.manylinux2010_x86_64.whl (23.1 MB)\n",
            "\u001b[K     |████████████████████████████████| 23.1 MB 2.4 MB/s \n",
            "\u001b[?25hCollecting tensorflow-io-gcs-filesystem==0.23.1\n",
            "  Downloading tensorflow_io_gcs_filesystem-0.23.1-cp37-cp37m-manylinux_2_12_x86_64.manylinux2010_x86_64.whl (2.1 MB)\n",
            "\u001b[K     |████████████████████████████████| 2.1 MB 36.3 MB/s \n",
            "\u001b[?25hInstalling collected packages: tensorflow-io-gcs-filesystem, tensorflow-io\n",
            "  Attempting uninstall: tensorflow-io-gcs-filesystem\n",
            "    Found existing installation: tensorflow-io-gcs-filesystem 0.24.0\n",
            "    Uninstalling tensorflow-io-gcs-filesystem-0.24.0:\n",
            "      Successfully uninstalled tensorflow-io-gcs-filesystem-0.24.0\n",
            "\u001b[31mERROR: pip's dependency resolver does not currently take into account all the packages that are installed. This behaviour is the source of the following dependency conflicts.\n",
            "tensorflow 2.8.0 requires tf-estimator-nightly==2.8.0.dev2021122109, which is not installed.\u001b[0m\n",
            "Successfully installed tensorflow-io-0.23.1 tensorflow-io-gcs-filesystem-0.23.1\n",
            "Currently selected TF version: 2.x\n",
            "Available versions:\n",
            "* 1.x\n",
            "* 2.x\n",
            "Requirement already satisfied: kaggle in /usr/local/lib/python3.7/dist-packages (1.5.12)\n",
            "Requirement already satisfied: tqdm in /usr/local/lib/python3.7/dist-packages (from kaggle) (4.63.0)\n",
            "Requirement already satisfied: requests in /usr/local/lib/python3.7/dist-packages (from kaggle) (2.23.0)\n",
            "Requirement already satisfied: python-dateutil in /usr/local/lib/python3.7/dist-packages (from kaggle) (2.8.2)\n",
            "Requirement already satisfied: certifi in /usr/local/lib/python3.7/dist-packages (from kaggle) (2021.10.8)\n",
            "Requirement already satisfied: urllib3 in /usr/local/lib/python3.7/dist-packages (from kaggle) (1.24.3)\n",
            "Requirement already satisfied: python-slugify in /usr/local/lib/python3.7/dist-packages (from kaggle) (6.1.1)\n",
            "Requirement already satisfied: six>=1.10 in /usr/local/lib/python3.7/dist-packages (from kaggle) (1.15.0)\n",
            "Requirement already satisfied: text-unidecode>=1.3 in /usr/local/lib/python3.7/dist-packages (from python-slugify->kaggle) (1.3)\n",
            "Requirement already satisfied: chardet<4,>=3.0.2 in /usr/local/lib/python3.7/dist-packages (from requests->kaggle) (3.0.4)\n",
            "Requirement already satisfied: idna<3,>=2.5 in /usr/local/lib/python3.7/dist-packages (from requests->kaggle) (2.10)\n",
            "Collecting kaggle\n",
            "  Downloading kaggle-1.5.12.tar.gz (58 kB)\n",
            "\u001b[K     |████████████████████████████████| 58 kB 5.1 MB/s \n",
            "\u001b[?25hBuilding wheels for collected packages: kaggle\n",
            "  Building wheel for kaggle (setup.py) ... \u001b[?25l\u001b[?25hdone\n",
            "  Created wheel for kaggle: filename=kaggle-1.5.12-py3-none-any.whl size=73051 sha256=b540ab2756178d3e4efd8b7c277a324dedc219532ee1675734bb2e47363948b0\n",
            "  Stored in directory: /root/.cache/pip/wheels/62/d6/58/5853130f941e75b2177d281eb7e44b4a98ed46dd155f556dc5\n",
            "Successfully built kaggle\n",
            "Installing collected packages: kaggle\n",
            "  Attempting uninstall: kaggle\n",
            "    Found existing installation: kaggle 1.5.12\n",
            "    Uninstalling kaggle-1.5.12:\n",
            "      Successfully uninstalled kaggle-1.5.12\n",
            "Successfully installed kaggle-1.5.12\n",
            "Collecting python3-wget\n",
            "  Downloading python3-wget-0.0.2-beta1.tar.gz (7.6 kB)\n",
            "Collecting hurry.filesize\n",
            "  Downloading hurry.filesize-0.9.tar.gz (2.8 kB)\n",
            "Requirement already satisfied: setuptools in /usr/local/lib/python3.7/dist-packages (from hurry.filesize->python3-wget) (57.4.0)\n",
            "Building wheels for collected packages: python3-wget, hurry.filesize\n",
            "  Building wheel for python3-wget (setup.py) ... \u001b[?25l\u001b[?25hdone\n",
            "  Created wheel for python3-wget: filename=python3_wget-0.0.2b1-py3-none-any.whl size=8014 sha256=f7cef5fc50c6f101c909b03435c32e4ddf6c0bb723fae2fccee871ac95f1179c\n",
            "  Stored in directory: /root/.cache/pip/wheels/52/35/d2/b16d60fcf42b7dcf597af854f195085d62722dd7f5a71ecc25\n",
            "  Building wheel for hurry.filesize (setup.py) ... \u001b[?25l\u001b[?25hdone\n",
            "  Created wheel for hurry.filesize: filename=hurry.filesize-0.9-py3-none-any.whl size=4133 sha256=d2815810bf29e54f1e4773e35aaa359d1aa2af0eeb36e9eba91495fd5021d4bc\n",
            "  Stored in directory: /root/.cache/pip/wheels/2c/99/7f/8c88c372b4bd642a731232e63cb89467554f6cea7708574e49\n",
            "Successfully built python3-wget hurry.filesize\n",
            "Installing collected packages: hurry.filesize, python3-wget\n",
            "Successfully installed hurry.filesize-0.9 python3-wget-0.0.2b1\n",
            "Collecting pydicom\n",
            "  Downloading pydicom-2.2.2-py3-none-any.whl (2.0 MB)\n",
            "\u001b[K     |████████████████████████████████| 2.0 MB 8.2 MB/s \n",
            "\u001b[?25hInstalling collected packages: pydicom\n",
            "Successfully installed pydicom-2.2.2\n"
          ]
        }
      ],
      "source": [
        "!pip install tensorflow-io==0.23.1\n",
        "%tensorflow_version\n",
        "\n",
        "!pip install kaggle\n",
        "!pip install --upgrade --force-reinstall --no-deps kaggle\n",
        "!mkdir ~/.kaggle\n",
        "!cp '/content/drive/MyDrive/Colab Notebooks/kaggle.json' ~/.kaggle/\n",
        "!chmod 600 ~/.kaggle/kaggle.json\n",
        "!pip install python3-wget\n",
        "import wget\n",
        "!pip install pydicom\n"
      ]
    },
    {
      "cell_type": "code",
      "execution_count": 3,
      "metadata": {
        "colab": {
          "base_uri": "https://localhost:8080/",
          "height": 53
        },
        "id": "3HCDsDAvYPx9",
        "outputId": "2fdf63df-cc99-4e73-c21d-a8b1848767d9"
      },
      "outputs": [
        {
          "output_type": "stream",
          "name": "stdout",
          "text": [
            "mkdir: cannot create directory ‘training’: File exists\n"
          ]
        },
        {
          "output_type": "execute_result",
          "data": {
            "application/vnd.google.colaboratory.intrinsic+json": {
              "type": "string"
            },
            "text/plain": [
              "'training//train.zip'"
            ]
          },
          "metadata": {},
          "execution_count": 3
        }
      ],
      "source": [
        "#load data from keggle\n",
        "\n",
        "!mkdir training\n",
        "\n",
        "url = \"https://storage.googleapis.com/kaggle-competitions-data/kaggle-v2/29653/2420395/compressed/train.zip?GoogleAccessId=web-data@kaggle-161607.iam.gserviceaccount.com&Expires=1647031985&Signature=iK2BUJGdRNR%2BRAG2YBUXDjeLAZ5yGFxIAb6FljAxMmJaI%2FG%2FTLUiKfKCSG9eRtFoZKx87%2FiHMTlaf%2BkIgxLk%2FjjDN565LRC5vyllqirpBVY0LtOWBA8OPJIxk5OgsI%2Bmbv6SizbORm19c4VTENkf9%2FESew6%2FfInnJU7Xct2fPL3fYJjlWtPTGFTK5pEamA2gG%2BAsAfnaffT0NMlYKXY6o2983Il1tA%2B3bwBq0T%2FicgO8Gw2sf5d6rS%2FEt8U8zzY8CBarm%2BXD4nzB7zLfQW0m8PounmnCYHm%2FUh2sXGnqK80vgsfB%2BwBB0%2B9b8bowXsCZC4bLlwxhmXl2pG9KVTskGw%3D%3D&response-content-disposition=attachment%3B+filename%3Dtrain.zip\"\n",
        "wget.download(url,\"training/\",bar=wget.bar_adaptive)\n",
        "# !kaggle competitions download -p training/ -c \"rsna-miccai-brain-tumor-radiogenomic-classification\""
      ]
    },
    {
      "cell_type": "code",
      "execution_count": null,
      "metadata": {
        "id": "gtpmT1wkDyoA"
      },
      "outputs": [],
      "source": [
        "!kaggle -v"
      ]
    },
    {
      "cell_type": "code",
      "execution_count": null,
      "metadata": {
        "id": "JAt61pmaKgGt"
      },
      "outputs": [],
      "source": [
        "!unzip training/train.zip -d training/"
      ]
    },
    {
      "cell_type": "code",
      "execution_count": 5,
      "metadata": {
        "id": "UaJMofvzXYj4"
      },
      "outputs": [],
      "source": [
        "import matplotlib.pyplot as plt\n",
        "import numpy as np\n",
        "import tensorflow as tf\n",
        "import tensorflow_io as tfio\n",
        "import os\n",
        "import glob\n",
        "\n",
        "import pandas as pd\n",
        "import numpy as np\n",
        "from pathlib import Path\n",
        "\n",
        "import random\n",
        "from tqdm.notebook import tqdm\n",
        "\n",
        "import pydicom # Handle MRI images\n",
        "\n",
        "import cv2  # OpenCV - https://docs.opencv.org/master/d6/d00/tutorial_py_root.html\n",
        "\n",
        "from sklearn.model_selection import train_test_split\n",
        "from sklearn.metrics import roc_auc_score, accuracy_score, log_loss\n",
        "\n",
        "from scipy import ndimage\n",
        "\n",
        "from tensorflow import keras\n",
        "from tensorflow.keras.utils import to_categorical\n",
        "from tensorflow.keras import layers"
      ]
    },
    {
      "cell_type": "code",
      "execution_count": 6,
      "metadata": {
        "colab": {
          "base_uri": "https://localhost:8080/",
          "height": 335
        },
        "id": "Meh21Sl4VAH1",
        "outputId": "f9f08d21-17e8-4088-8d29-b8c0d828d807"
      },
      "outputs": [
        {
          "output_type": "execute_result",
          "data": {
            "text/plain": [
              "Text(0.5, 1.0, '0002-T2w-image-100')"
            ]
          },
          "metadata": {},
          "execution_count": 6
        },
        {
          "output_type": "display_data",
          "data": {
            "image/png": "[encoded data removed]",
            "text/plain": [
              "<Figure size 720x720 with 2 Axes>"
            ]
          },
          "metadata": {
            "needs_background": "light"
          }
        }
      ],
      "source": [
        "#load two dcm files\n",
        "\n",
        "image_bytes_1 = tf.io.read_file('training/00002/FLAIR/Image-450.dcm')\n",
        "image_bytes_2 = tf.io.read_file('training/00002/T2w/Image-200.dcm')\n",
        "\n",
        "image_1 = tfio.image.decode_dicom_image(image_bytes_1,dtype=tf.uint16)\n",
        "image_2 = tfio.image.decode_dicom_image(image_bytes_2,dtype=tf.uint16)\n",
        "\n",
        "fig,axes = plt.subplots(1,2,figsize=(10,10))\n",
        "axes[0].imshow(np.squeeze(image_1.numpy()),cmap='gray')\n",
        "axes[0].set_title('0002-FLAIR-image-100')\n",
        "axes[1].imshow(np.squeeze(image_2.numpy()),cmap='gray')\n",
        "axes[1].set_title('0002-T2w-image-100')\n"
      ]
    },
    {
      "cell_type": "code",
      "source": [
        "data_dir = Path('training')\n",
        "\n",
        "#Read csv file for IDs\n",
        "mri_types = [\"FLAIR\", \"T1w\", \"T2w\", \"T1wCE\"]\n",
        "excluded_images = [109, 123, 709] # Bad images\n",
        "train_df = pd.read_csv(data_dir / \"_labels.csv\")\n",
        "\n",
        "#Remove images with unexpected issues\n",
        "train_df = train_df[~train_df.BraTS21ID.isin(excluded_images)]\n",
        "\n",
        "print(f\"train data: Rows={train_df.shape[0]}, Columns={train_df.shape[1]}\")\n"
      ],
      "metadata": {
        "colab": {
          "base_uri": "https://localhost:8080/"
        },
        "id": "QwrWQbUq4q7-",
        "outputId": "72d7beb0-2ce2-4f57-d78e-cbaa9b1ca9aa"
      },
      "execution_count": 7,
      "outputs": [
        {
          "output_type": "stream",
          "name": "stdout",
          "text": [
            "train data: Rows=582, Columns=2\n"
          ]
        }
      ]
    },
    {
      "cell_type": "code",
      "source": [
        "def resize_volume(img):\n",
        "    \"\"\"Resize across z-axis\"\"\"\n",
        "    # Set the desired depth\n",
        "    desired_depth = 64\n",
        "    desired_width = 128\n",
        "    desired_height = 128\n",
        "    # Get current depth\n",
        "    current_depth = img.shape[-1]\n",
        "    current_width = img.shape[0]\n",
        "    current_height = img.shape[1]\n",
        "    # Compute depth factor\n",
        "    depth = current_depth / desired_depth\n",
        "    width = current_width / desired_width\n",
        "    height = current_height / desired_height\n",
        "    depth_factor = 1 / depth\n",
        "    width_factor = 1 / width\n",
        "    height_factor = 1 / height\n",
        "    # Resize across z-axis\n",
        "    img = ndimage.zoom(img, (width_factor, height_factor, depth_factor), order=1)\n",
        "    return img\n",
        "\n",
        "def load_dicom(path, size = 224):\n",
        "    dicom = pydicom.read_file(path)\n",
        "    data = dicom.pixel_array\n",
        "    if np.max(data) != 0:\n",
        "        data = data / np.max(data)\n",
        "    data = (data * 255).astype(np.uint8)\n",
        "    return cv2.resize(data, (size, size))\n",
        "\n",
        "def load_dicom2(path):\n",
        "    data = np.concatenate([tf.expand_dims(pydicom.read_file(p).pixel_array, axis=-1) for p in path], axis=2)\n",
        "    if np.max(data) != 0:\n",
        "        data = data / np.max(data)\n",
        "    data = (data * 255).astype(np.uint8)\n",
        "    return resize_volume(data)\n",
        "\n"
      ],
      "metadata": {
        "id": "no44rP1824Sp"
      },
      "execution_count": 8,
      "outputs": []
    },
    {
      "cell_type": "code",
      "execution_count": 12,
      "metadata": {
        "id": "vD3bzFEeVwnW"
      },
      "outputs": [],
      "source": [
        "def get_all_image_paths(brats21id, image_type, folder=''):\n",
        "    assert(image_type in mri_types)\n",
        "    \n",
        "    patient_path = os.path.join(folder,\n",
        "                str(brats21id).zfill(5)\n",
        "    )\n",
        "    \n",
        "    paths = sorted(\n",
        "        glob.glob(os.path.join(patient_path, image_type, \"*\"))\n",
        "    )\n",
        "\n",
        "    num_images = len(paths)\n",
        "    start = int(num_images * 0.25)\n",
        "    end = int(num_images * 0.75)\n",
        "\n",
        "    interval = 1\n",
        "    \n",
        "    return np.array(paths[start:end:interval])\n",
        "\n",
        "def get_all_images(brats21id, image_type, folder='', size=225):\n",
        "    return [load_dicom(path, size) for path in get_all_image_paths(brats21id, image_type, folder)]\n",
        "\n",
        "def get_all_images2(brats21id, image_type, folder=''):\n",
        "    return [load_dicom2(get_all_image_paths(brats21id, image_type, folder))]\n",
        "\n",
        "def get_all_data_for_train(image_type='T1wCE'):\n",
        "    global train_df\n",
        "    \n",
        "    X = []\n",
        "    y = []\n",
        "    train_ids = []\n",
        "\n",
        "    for i in tqdm(train_df.index):\n",
        "        x = train_df.loc[i]\n",
        "        images = get_all_images2(int(x['BraTS21ID']), image_type, 'training/')\n",
        "        \n",
        "        label = x['MGMT_value']\n",
        "\n",
        "        X += images\n",
        "        y += [label] * len(images)\n",
        "        train_ids += [int(x['BraTS21ID'])] * len(images)\n",
        "        assert(len(X) == len(y))\n",
        "    return np.array(X), np.array(y), np.array(train_ids)"
      ]
    },
    {
      "cell_type": "code",
      "source": [
        "\n",
        "X, y, trainidt = get_all_data_for_train()\n"
      ],
      "metadata": {
        "colab": {
          "base_uri": "https://localhost:8080/",
          "height": 66,
          "referenced_widgets": [
            "6eb00eae8c814f28a483c190cce9b5f2",
            "09432ccdbca348429e91f029c04de7b9",
            "7e1f4209066b4472b51411b4866820c1",
            "0761c5b86ebe42f6880ce85493e8eded",
            "5728d445df054336b1f1374981223751",
            "9fce39754b0c489b800d63b8f8ecc805",
            "82d6adb8f65a404388ee9fb59de5ac12",
            "366f452e80e84cd8b2737fe12f063771",
            "e4e5d274949a41138c5b2454add09d9e",
            "445879680a0447eba0ced2a26a8397af",
            "9237c8af21dd46c6800dd2d1e215aa83"
          ]
        },
        "id": "8ZohV1yn9vT1",
        "outputId": "9e75fee5-3308-448b-f1e0-a99c3966bb90"
      },
      "execution_count": 14,
      "outputs": [
        {
          "output_type": "display_data",
          "data": {
            "application/vnd.jupyter.widget-view+json": {
              "model_id": "6eb00eae8c814f28a483c190cce9b5f2",
              "version_minor": 0,
              "version_major": 2
            },
            "text/plain": [
              "  0%|          | 0/582 [00:00<?, ?it/s]"
            ]
          },
          "metadata": {}
        },
        {
          "output_type": "stream",
          "name": "stdout",
          "text": [
            "1\n"
          ]
        }
      ]
    },
    {
      "cell_type": "code",
      "source": [
        "print(X.shape)\n",
        "data = X[0,:,:,:]\n",
        "image=data[:,:,56]\n",
        "print(image.shape)\n",
        "plt.imshow(np.squeeze(image),cmap=\"gray\")\n",
        "\n",
        "\n",
        "# list(data)[1].shape\n",
        "# data = data.take(1)\n",
        "# images, labels = list(data)[0]\n",
        "# image = images[0]\n",
        "# print(\"Dimension of the CT scan is:\", image.shape)\n",
        "# plt.imshow(np.squeeze(image[:, :, 30]), cmap=\"gray\")"
      ],
      "metadata": {
        "colab": {
          "base_uri": "https://localhost:8080/",
          "height": 320
        },
        "id": "8yuK_48e_AzJ",
        "outputId": "30ba83ef-922f-4951-f38d-e552082143f6"
      },
      "execution_count": 72,
      "outputs": [
        {
          "output_type": "stream",
          "name": "stdout",
          "text": [
            "(582, 128, 128, 64)\n",
            "(128, 128)\n"
          ]
        },
        {
          "output_type": "execute_result",
          "data": {
            "text/plain": [
              "<matplotlib.image.AxesImage at 0x7fd0153c0ad0>"
            ]
          },
          "metadata": {},
          "execution_count": 72
        },
        {
          "output_type": "display_data",
          "data": {
            "image/png": "[encoded data removed]",
            "text/plain": [
              "<Figure size 432x288 with 1 Axes>"
            ]
          },
          "metadata": {
            "needs_background": "light"
          }
        }
      ]
    },
    {
      "cell_type": "code",
      "source": [
        "def get_3DCNNmodel(width=128, height=128, depth=64, name='3dcnn'):\n",
        "    \"\"\"Build a 3D convolutional neural network model.\"\"\"\n",
        "\n",
        "    inputs = tf.keras.Input((width, height, depth, 1))\n",
        "\n",
        "    x = tf.keras.layers.Conv3D(filters=64, kernel_size=3, activation=\"relu\")(inputs)\n",
        "    x = tf.keras.layers.MaxPool3D(pool_size=2)(x)\n",
        "    x = tf.keras.layers.BatchNormalization()(x)\n",
        "\n",
        "    x = tf.keras.layers.Conv3D(filters=64, kernel_size=3, activation=\"relu\")(x)\n",
        "    x = tf.keras.layers.MaxPool3D(pool_size=2)(x)\n",
        "    x = tf.keras.layers.BatchNormalization()(x)\n",
        "\n",
        "    x = tf.keras.layers.Conv3D(filters=128, kernel_size=3, activation=\"relu\")(x)\n",
        "    x = tf.keras.layers.MaxPool3D(pool_size=2)(x)\n",
        "    x = tf.keras.layers.BatchNormalization()(x)\n",
        "\n",
        "    x = tf.keras.layers.Conv3D(filters=256, kernel_size=3, activation=\"relu\")(x)\n",
        "    x = tf.keras.layers.MaxPool3D(pool_size=2)(x)\n",
        "    x = tf.keras.layers.BatchNormalization()(x)\n",
        "\n",
        "    x = tf.keras.layers.GlobalAveragePooling3D()(x)\n",
        "    x = tf.keras.layers.Dense(units=512, activation=\"relu\")(x)\n",
        "    x = tf.keras.layers.Dropout(0.3)(x)\n",
        "\n",
        "    #outputs = tf.keras.layers.Dense(units=1, activation=\"sigmoid\")(x)\n",
        "    output = keras.layers.Dense(2, activation=\"sigmoid\")(x)\n",
        "\n",
        "    #model = tf.keras.Model(inputs, outputs, name=name)\n",
        "\n",
        "    #initial_learning_rate = 0.0001\n",
        "    #lr_schedule = tf.keras.optimizers.schedules.ExponentialDecay(\n",
        "    #    initial_learning_rate, decay_steps=100000, decay_rate=0.96, staircase=True\n",
        "    #)\n",
        "    #model.compile(\n",
        "    #    loss=\"binary_crossentropy\",\n",
        "    #    optimizer=tf.keras.optimizers.Adam(learning_rate=lr_schedule),\n",
        "    #    metrics=[\"acc\"],\n",
        "    #)\n",
        "    model = keras.Model(inputs, output)\n",
        "    initial_learning_rate =  0.0001\n",
        "    lr_schedule = tf.keras.optimizers.schedules.ExponentialDecay(\n",
        "        initial_learning_rate,\n",
        "        decay_steps=100000,\n",
        "        decay_rate=0.96, \n",
        "        staircase=True\n",
        "    )\n",
        "  \n",
        "    roc_auc = tf.keras.metrics.AUC(name='roc_auc', curve='ROC')\n",
        "\n",
        "    model.compile(\n",
        "        loss=\"binary_crossentropy\", \n",
        "        optimizer=keras.optimizers.Adam(),\n",
        "        metrics=[roc_auc],\n",
        "    )\n",
        "    return model"
      ],
      "metadata": {
        "id": "ISCXBx_O7ihC"
      },
      "execution_count": 78,
      "outputs": []
    },
    {
      "cell_type": "code",
      "source": [
        "early_stopping_cb = tf.keras.callbacks.EarlyStopping(monitor=\"val_roc_auc\", mode='max', patience=10)\n"
      ],
      "metadata": {
        "id": "NJqo6gvL_0Kl"
      },
      "execution_count": 74,
      "outputs": []
    },
    {
      "cell_type": "code",
      "source": [
        "\"\"\" \n",
        "function ConnectButton(){\n",
        "  console.log(\"Connect pushed\"); \n",
        "  document.querySelector(\"#top-toolbar > colab-connectbutton\").shadowRoot.querySelector(\"#connect\").click() \n",
        "}\n",
        "setInterval(ConnectButton,60000);\n",
        "\"\"\""
      ],
      "metadata": {
        "id": "7xaP_gfuEZDA"
      },
      "execution_count": null,
      "outputs": []
    },
    {
      "cell_type": "code",
      "source": [
        "auc_list = []\n",
        "best_auc = float(\"-inf\")\n",
        "\n",
        "for i in tqdm(range(20)):\n",
        "    checkpoint_filepath = \"best_model_\"+str(i)+\".h5\"\n",
        "\n",
        "    model_checkpoint_cb = tf.keras.callbacks.ModelCheckpoint(\n",
        "        filepath=checkpoint_filepath,\n",
        "        save_weights_only=False,\n",
        "        monitor=\"val_roc_auc\",\n",
        "        mode=\"max\",\n",
        "        save_best_only=True,\n",
        "        save_freq=\"epoch\",\n",
        "        verbose=0,\n",
        "    )\n",
        "    X_train, X_valid, y_train, y_valid, trainidt_train, trainidt_valid = train_test_split(X, y, trainidt, test_size=0.2, random_state=i)\n",
        "\n",
        "    X_train = tf.expand_dims(X_train, axis=-1)\n",
        "    X_valid = tf.expand_dims(X_valid, axis=-1)\n",
        "    y_train = to_categorical(y_train)\n",
        "    y_valid = to_categorical(y_valid)\n",
        "\n",
        "    model = get_3DCNNmodel()\n",
        "\n",
        "    history = model.fit(x=X_train, y = y_train, epochs=40, batch_size = 2,\n",
        "                        callbacks=[model_checkpoint_cb, early_stopping_cb],\n",
        "                        validation_data=(X_valid, y_valid), verbose=0)\n",
        "\n",
        "    model_best = tf.keras.models.load_model(filepath=checkpoint_filepath)\n",
        "    y_pred = model_best.predict(X_valid,batch_size = 2)\n",
        "\n",
        "    pred = np.argmax(y_pred, axis=1)\n",
        "\n",
        "    result = pd.DataFrame(trainidt_valid)\n",
        "    result[1] = pred\n",
        "\n",
        "    result.columns = [\"BraTS21ID\", \"MGMT_value\"]\n",
        "    result2 = result.groupby(\"BraTS21ID\", as_index=False).mean()\n",
        "\n",
        "    result2 = result2.merge(train_df, on=\"BraTS21ID\")\n",
        "    auc = roc_auc_score(\n",
        "        result2.MGMT_value_y,\n",
        "        result2.MGMT_value_x,\n",
        "    )\n",
        "    print(f\"Validation AUC={auc}\")\n",
        "    auc_list.append(auc)\n",
        "    if auc > best_auc:\n",
        "        best_i = i\n",
        "        best_auc = auc"
      ],
      "metadata": {
        "colab": {
          "base_uri": "https://localhost:8080/",
          "height": 396,
          "referenced_widgets": [
            "c2f3a059739042b0b822b9ffff1cc80a",
            "5bde36e9a50544428c359a3a34875d65",
            "7c177ca7ce0e4a7d8b06630d478f9823",
            "330523a605bf4f1d8affbf5d913408d8",
            "4acacacb2fff4b95b9c430dd9f749748",
            "7293cd0697ae4fef878ee0063ba60dae",
            "d54b60be4c6b4fb78c83c79786eb977c",
            "5f2d1c9973374eac99e08f9e51071c10",
            "00ceea7dc4d64db0a688b4e76228c74b",
            "17aec1246afe4550b8f8e47d061d8d88",
            "b74057c00fa142bdbde6114b72a4c860"
          ]
        },
        "id": "kMo5rFy78TVk",
        "outputId": "78f1a756-324d-41eb-b185-13c968a76341"
      },
      "execution_count": 79,
      "outputs": [
        {
          "data": {
            "application/vnd.jupyter.widget-view+json": {
              "model_id": "c2f3a059739042b0b822b9ffff1cc80a",
              "version_major": 2,
              "version_minor": 0
            },
            "text/plain": [
              "  0%|          | 0/20 [00:00<?, ?it/s]"
            ]
          },
          "metadata": {},
          "output_type": "display_data"
        },
        {
          "output_type": "stream",
          "name": "stdout",
          "text": [
            "Validation AUC=0.5993852459016393\n",
            "Validation AUC=0.5582089552238806\n",
            "Validation AUC=0.5529891304347827\n",
            "Validation AUC=0.5592798594847775\n",
            "Validation AUC=0.616268656716418\n",
            "Validation AUC=0.5444444444444444\n",
            "Validation AUC=0.5390350877192982\n",
            "Validation AUC=0.6407071887784921\n",
            "Validation AUC=0.5381578947368421\n",
            "Validation AUC=0.5645636792452831\n",
            "Validation AUC=0.5918003565062389\n",
            "Validation AUC=0.606140350877193\n",
            "Validation AUC=0.4912023460410557\n",
            "Validation AUC=0.5425438596491228\n",
            "Validation AUC=0.6165105386416861\n",
            "Validation AUC=0.5396825396825397\n",
            "Validation AUC=0.5536236119228521\n",
            "Validation AUC=0.49166666666666664\n",
            "Validation AUC=0.5777224824355972\n",
            "Validation AUC=0.5608955223880596\n"
          ]
        }
      ]
    },
    {
      "cell_type": "code",
      "source": [
        "while true:\n",
        "  pass\n"
      ],
      "metadata": {
        "colab": {
          "base_uri": "https://localhost:8080/",
          "height": 183
        },
        "id": "boGkcga6KOGY",
        "outputId": "d4a4e3ac-1d64-427f-c47d-e3ac53aa0fc9"
      },
      "execution_count": 80,
      "outputs": [
        {
          "output_type": "error",
          "ename": "NameError",
          "evalue": "ignored",
          "traceback": [
            "\u001b[0;31m---------------------------------------------------------------------------\u001b[0m",
            "\u001b[0;31mNameError\u001b[0m                                 Traceback (most recent call last)",
            "\u001b[0;32m<ipython-input-80-3dccbe0c8c02>\u001b[0m in \u001b[0;36m<module>\u001b[0;34m()\u001b[0m\n\u001b[0;32m----> 1\u001b[0;31m \u001b[0;32mwhile\u001b[0m \u001b[0mtrue\u001b[0m\u001b[0;34m:\u001b[0m\u001b[0;34m\u001b[0m\u001b[0;34m\u001b[0m\u001b[0m\n\u001b[0m\u001b[1;32m      2\u001b[0m   \u001b[0;32mpass\u001b[0m\u001b[0;34m\u001b[0m\u001b[0;34m\u001b[0m\u001b[0m\n",
            "\u001b[0;31mNameError\u001b[0m: name 'true' is not defined"
          ]
        }
      ]
    }
  ],
  "metadata": {
    "accelerator": "GPU",
    "colab": {
      "name": "Untitled3.ipynb",
      "provenance": [],
      "mount_file_id": "1hrFjAvUppet4yMOpF0ktkOY1uIJhF89i",
      "authorship_tag": "ABX9TyNkbbh99mJ1+xynzHKmcz1e",
      "include_colab_link": true
    },
    "kernelspec": {
      "display_name": "Python 3",
      "name": "python3"
    },
    "language_info": {
      "name": "python"
    },
    "widgets": {
      "application/vnd.jupyter.widget-state+json": {
        "6eb00eae8c814f28a483c190cce9b5f2": {
          "model_module": "@jupyter-widgets/controls",
          "model_name": "HBoxModel",
          "model_module_version": "1.5.0",
          "state": {
            "_view_name": "HBoxView",
            "_dom_classes": [],
            "_model_name": "HBoxModel",
            "_view_module": "@jupyter-widgets/controls",
            "_model_module_version": "1.5.0",
            "_view_count": null,
            "_view_module_version": "1.5.0",
            "box_style": "",
            "layout": "IPY_MODEL_09432ccdbca348429e91f029c04de7b9",
            "_model_module": "@jupyter-widgets/controls",
            "children": [
              "IPY_MODEL_7e1f4209066b4472b51411b4866820c1",
              "IPY_MODEL_0761c5b86ebe42f6880ce85493e8eded",
              "IPY_MODEL_5728d445df054336b1f1374981223751"
            ]
          }
        },
        "09432ccdbca348429e91f029c04de7b9": {
          "model_module": "@jupyter-widgets/base",
          "model_name": "LayoutModel",
          "model_module_version": "1.2.0",
          "state": {
            "_view_name": "LayoutView",
            "grid_template_rows": null,
            "right": null,
            "justify_content": null,
            "_view_module": "@jupyter-widgets/base",
            "overflow": null,
            "_model_module_version": "1.2.0",
            "_view_count": null,
            "flex_flow": null,
            "width": null,
            "min_width": null,
            "border": null,
            "align_items": null,
            "bottom": null,
            "_model_module": "@jupyter-widgets/base",
            "top": null,
            "grid_column": null,
            "overflow_y": null,
            "overflow_x": null,
            "grid_auto_flow": null,
            "grid_area": null,
            "grid_template_columns": null,
            "flex": null,
            "_model_name": "LayoutModel",
            "justify_items": null,
            "grid_row": null,
            "max_height": null,
            "align_content": null,
            "visibility": null,
            "align_self": null,
            "height": null,
            "min_height": null,
            "padding": null,
            "grid_auto_rows": null,
            "grid_gap": null,
            "max_width": null,
            "order": null,
            "_view_module_version": "1.2.0",
            "grid_template_areas": null,
            "object_position": null,
            "object_fit": null,
            "grid_auto_columns": null,
            "margin": null,
            "display": null,
            "left": null
          }
        },
        "7e1f4209066b4472b51411b4866820c1": {
          "model_module": "@jupyter-widgets/controls",
          "model_name": "HTMLModel",
          "model_module_version": "1.5.0",
          "state": {
            "_view_name": "HTMLView",
            "style": "IPY_MODEL_9fce39754b0c489b800d63b8f8ecc805",
            "_dom_classes": [],
            "description": "",
            "_model_name": "HTMLModel",
            "placeholder": "​",
            "_view_module": "@jupyter-widgets/controls",
            "_model_module_version": "1.5.0",
            "value": "100%",
            "_view_count": null,
            "_view_module_version": "1.5.0",
            "description_tooltip": null,
            "_model_module": "@jupyter-widgets/controls",
            "layout": "IPY_MODEL_82d6adb8f65a404388ee9fb59de5ac12"
          }
        },
        "0761c5b86ebe42f6880ce85493e8eded": {
          "model_module": "@jupyter-widgets/controls",
          "model_name": "FloatProgressModel",
          "model_module_version": "1.5.0",
          "state": {
            "_view_name": "ProgressView",
            "style": "IPY_MODEL_366f452e80e84cd8b2737fe12f063771",
            "_dom_classes": [],
            "description": "",
            "_model_name": "FloatProgressModel",
            "bar_style": "success",
            "max": 582,
            "_view_module": "@jupyter-widgets/controls",
            "_model_module_version": "1.5.0",
            "value": 582,
            "_view_count": null,
            "_view_module_version": "1.5.0",
            "orientation": "horizontal",
            "min": 0,
            "description_tooltip": null,
            "_model_module": "@jupyter-widgets/controls",
            "layout": "IPY_MODEL_e4e5d274949a41138c5b2454add09d9e"
          }
        },
        "5728d445df054336b1f1374981223751": {
          "model_module": "@jupyter-widgets/controls",
          "model_name": "HTMLModel",
          "model_module_version": "1.5.0",
          "state": {
            "_view_name": "HTMLView",
            "style": "IPY_MODEL_445879680a0447eba0ced2a26a8397af",
            "_dom_classes": [],
            "description": "",
            "_model_name": "HTMLModel",
            "placeholder": "​",
            "_view_module": "@jupyter-widgets/controls",
            "_model_module_version": "1.5.0",
            "value": " 582/582 [03:59&lt;00:00,  3.51it/s]",
            "_view_count": null,
            "_view_module_version": "1.5.0",
            "description_tooltip": null,
            "_model_module": "@jupyter-widgets/controls",
            "layout": "IPY_MODEL_9237c8af21dd46c6800dd2d1e215aa83"
          }
        },
        "9fce39754b0c489b800d63b8f8ecc805": {
          "model_module": "@jupyter-widgets/controls",
          "model_name": "DescriptionStyleModel",
          "model_module_version": "1.5.0",
          "state": {
            "_view_name": "StyleView",
            "_model_name": "DescriptionStyleModel",
            "description_width": "",
            "_view_module": "@jupyter-widgets/base",
            "_model_module_version": "1.5.0",
            "_view_count": null,
            "_view_module_version": "1.2.0",
            "_model_module": "@jupyter-widgets/controls"
          }
        },
        "82d6adb8f65a404388ee9fb59de5ac12": {
          "model_module": "@jupyter-widgets/base",
          "model_name": "LayoutModel",
          "model_module_version": "1.2.0",
          "state": {
            "_view_name": "LayoutView",
            "grid_template_rows": null,
            "right": null,
            "justify_content": null,
            "_view_module": "@jupyter-widgets/base",
            "overflow": null,
            "_model_module_version": "1.2.0",
            "_view_count": null,
            "flex_flow": null,
            "width": null,
            "min_width": null,
            "border": null,
            "align_items": null,
            "bottom": null,
            "_model_module": "@jupyter-widgets/base",
            "top": null,
            "grid_column": null,
            "overflow_y": null,
            "overflow_x": null,
            "grid_auto_flow": null,
            "grid_area": null,
            "grid_template_columns": null,
            "flex": null,
            "_model_name": "LayoutModel",
            "justify_items": null,
            "grid_row": null,
            "max_height": null,
            "align_content": null,
            "visibility": null,
            "align_self": null,
            "height": null,
            "min_height": null,
            "padding": null,
            "grid_auto_rows": null,
            "grid_gap": null,
            "max_width": null,
            "order": null,
            "_view_module_version": "1.2.0",
            "grid_template_areas": null,
            "object_position": null,
            "object_fit": null,
            "grid_auto_columns": null,
            "margin": null,
            "display": null,
            "left": null
          }
        },
        "366f452e80e84cd8b2737fe12f063771": {
          "model_module": "@jupyter-widgets/controls",
          "model_name": "ProgressStyleModel",
          "model_module_version": "1.5.0",
          "state": {
            "_view_name": "StyleView",
            "_model_name": "ProgressStyleModel",
            "description_width": "",
            "_view_module": "@jupyter-widgets/base",
            "_model_module_version": "1.5.0",
            "_view_count": null,
            "_view_module_version": "1.2.0",
            "bar_color": null,
            "_model_module": "@jupyter-widgets/controls"
          }
        },
        "e4e5d274949a41138c5b2454add09d9e": {
          "model_module": "@jupyter-widgets/base",
          "model_name": "LayoutModel",
          "model_module_version": "1.2.0",
          "state": {
            "_view_name": "LayoutView",
            "grid_template_rows": null,
            "right": null,
            "justify_content": null,
            "_view_module": "@jupyter-widgets/base",
            "overflow": null,
            "_model_module_version": "1.2.0",
            "_view_count": null,
            "flex_flow": null,
            "width": null,
            "min_width": null,
            "border": null,
            "align_items": null,
            "bottom": null,
            "_model_module": "@jupyter-widgets/base",
            "top": null,
            "grid_column": null,
            "overflow_y": null,
            "overflow_x": null,
            "grid_auto_flow": null,
            "grid_area": null,
            "grid_template_columns": null,
            "flex": null,
            "_model_name": "LayoutModel",
            "justify_items": null,
            "grid_row": null,
            "max_height": null,
            "align_content": null,
            "visibility": null,
            "align_self": null,
            "height": null,
            "min_height": null,
            "padding": null,
            "grid_auto_rows": null,
            "grid_gap": null,
            "max_width": null,
            "order": null,
            "_view_module_version": "1.2.0",
            "grid_template_areas": null,
            "object_position": null,
            "object_fit": null,
            "grid_auto_columns": null,
            "margin": null,
            "display": null,
            "left": null
          }
        },
        "445879680a0447eba0ced2a26a8397af": {
          "model_module": "@jupyter-widgets/controls",
          "model_name": "DescriptionStyleModel",
          "model_module_version": "1.5.0",
          "state": {
            "_view_name": "StyleView",
            "_model_name": "DescriptionStyleModel",
            "description_width": "",
            "_view_module": "@jupyter-widgets/base",
            "_model_module_version": "1.5.0",
            "_view_count": null,
            "_view_module_version": "1.2.0",
            "_model_module": "@jupyter-widgets/controls"
          }
        },
        "9237c8af21dd46c6800dd2d1e215aa83": {
          "model_module": "@jupyter-widgets/base",
          "model_name": "LayoutModel",
          "model_module_version": "1.2.0",
          "state": {
            "_view_name": "LayoutView",
            "grid_template_rows": null,
            "right": null,
            "justify_content": null,
            "_view_module": "@jupyter-widgets/base",
            "overflow": null,
            "_model_module_version": "1.2.0",
            "_view_count": null,
            "flex_flow": null,
            "width": null,
            "min_width": null,
            "border": null,
            "align_items": null,
            "bottom": null,
            "_model_module": "@jupyter-widgets/base",
            "top": null,
            "grid_column": null,
            "overflow_y": null,
            "overflow_x": null,
            "grid_auto_flow": null,
            "grid_area": null,
            "grid_template_columns": null,
            "flex": null,
            "_model_name": "LayoutModel",
            "justify_items": null,
            "grid_row": null,
            "max_height": null,
            "align_content": null,
            "visibility": null,
            "align_self": null,
            "height": null,
            "min_height": null,
            "padding": null,
            "grid_auto_rows": null,
            "grid_gap": null,
            "max_width": null,
            "order": null,
            "_view_module_version": "1.2.0",
            "grid_template_areas": null,
            "object_position": null,
            "object_fit": null,
            "grid_auto_columns": null,
            "margin": null,
            "display": null,
            "left": null
          }
        },
        "c2f3a059739042b0b822b9ffff1cc80a": {
          "model_module": "@jupyter-widgets/controls",
          "model_name": "HBoxModel",
          "model_module_version": "1.5.0",
          "state": {
            "_view_name": "HBoxView",
            "_dom_classes": [],
            "_model_name": "HBoxModel",
            "_view_module": "@jupyter-widgets/controls",
            "_model_module_version": "1.5.0",
            "_view_count": null,
            "_view_module_version": "1.5.0",
            "box_style": "",
            "layout": "IPY_MODEL_5bde36e9a50544428c359a3a34875d65",
            "_model_module": "@jupyter-widgets/controls",
            "children": [
              "IPY_MODEL_7c177ca7ce0e4a7d8b06630d478f9823",
              "IPY_MODEL_330523a605bf4f1d8affbf5d913408d8",
              "IPY_MODEL_4acacacb2fff4b95b9c430dd9f749748"
            ]
          }
        },
        "5bde36e9a50544428c359a3a34875d65": {
          "model_module": "@jupyter-widgets/base",
          "model_name": "LayoutModel",
          "model_module_version": "1.2.0",
          "state": {
            "_view_name": "LayoutView",
            "grid_template_rows": null,
            "right": null,
            "justify_content": null,
            "_view_module": "@jupyter-widgets/base",
            "overflow": null,
            "_model_module_version": "1.2.0",
            "_view_count": null,
            "flex_flow": null,
            "width": null,
            "min_width": null,
            "border": null,
            "align_items": null,
            "bottom": null,
            "_model_module": "@jupyter-widgets/base",
            "top": null,
            "grid_column": null,
            "overflow_y": null,
            "overflow_x": null,
            "grid_auto_flow": null,
            "grid_area": null,
            "grid_template_columns": null,
            "flex": null,
            "_model_name": "LayoutModel",
            "justify_items": null,
            "grid_row": null,
            "max_height": null,
            "align_content": null,
            "visibility": null,
            "align_self": null,
            "height": null,
            "min_height": null,
            "padding": null,
            "grid_auto_rows": null,
            "grid_gap": null,
            "max_width": null,
            "order": null,
            "_view_module_version": "1.2.0",
            "grid_template_areas": null,
            "object_position": null,
            "object_fit": null,
            "grid_auto_columns": null,
            "margin": null,
            "display": null,
            "left": null
          }
        },
        "7c177ca7ce0e4a7d8b06630d478f9823": {
          "model_module": "@jupyter-widgets/controls",
          "model_name": "HTMLModel",
          "model_module_version": "1.5.0",
          "state": {
            "_view_name": "HTMLView",
            "style": "IPY_MODEL_7293cd0697ae4fef878ee0063ba60dae",
            "_dom_classes": [],
            "description": "",
            "_model_name": "HTMLModel",
            "placeholder": "​",
            "_view_module": "@jupyter-widgets/controls",
            "_model_module_version": "1.5.0",
            "value": "100%",
            "_view_count": null,
            "_view_module_version": "1.5.0",
            "description_tooltip": null,
            "_model_module": "@jupyter-widgets/controls",
            "layout": "IPY_MODEL_d54b60be4c6b4fb78c83c79786eb977c"
          }
        },
        "330523a605bf4f1d8affbf5d913408d8": {
          "model_module": "@jupyter-widgets/controls",
          "model_name": "FloatProgressModel",
          "model_module_version": "1.5.0",
          "state": {
            "_view_name": "ProgressView",
            "style": "IPY_MODEL_5f2d1c9973374eac99e08f9e51071c10",
            "_dom_classes": [],
            "description": "",
            "_model_name": "FloatProgressModel",
            "bar_style": "success",
            "max": 20,
            "_view_module": "@jupyter-widgets/controls",
            "_model_module_version": "1.5.0",
            "value": 20,
            "_view_count": null,
            "_view_module_version": "1.5.0",
            "orientation": "horizontal",
            "min": 0,
            "description_tooltip": null,
            "_model_module": "@jupyter-widgets/controls",
            "layout": "IPY_MODEL_00ceea7dc4d64db0a688b4e76228c74b"
          }
        },
        "4acacacb2fff4b95b9c430dd9f749748": {
          "model_module": "@jupyter-widgets/controls",
          "model_name": "HTMLModel",
          "model_module_version": "1.5.0",
          "state": {
            "_view_name": "HTMLView",
            "style": "IPY_MODEL_17aec1246afe4550b8f8e47d061d8d88",
            "_dom_classes": [],
            "description": "",
            "_model_name": "HTMLModel",
            "placeholder": "​",
            "_view_module": "@jupyter-widgets/controls",
            "_model_module_version": "1.5.0",
            "value": " 20/20 [4:25:10&lt;00:00, 744.03s/it]",
            "_view_count": null,
            "_view_module_version": "1.5.0",
            "description_tooltip": null,
            "_model_module": "@jupyter-widgets/controls",
            "layout": "IPY_MODEL_b74057c00fa142bdbde6114b72a4c860"
          }
        },
        "7293cd0697ae4fef878ee0063ba60dae": {
          "model_module": "@jupyter-widgets/controls",
          "model_name": "DescriptionStyleModel",
          "model_module_version": "1.5.0",
          "state": {
            "_view_name": "StyleView",
            "_model_name": "DescriptionStyleModel",
            "description_width": "",
            "_view_module": "@jupyter-widgets/base",
            "_model_module_version": "1.5.0",
            "_view_count": null,
            "_view_module_version": "1.2.0",
            "_model_module": "@jupyter-widgets/controls"
          }
        },
        "d54b60be4c6b4fb78c83c79786eb977c": {
          "model_module": "@jupyter-widgets/base",
          "model_name": "LayoutModel",
          "model_module_version": "1.2.0",
          "state": {
            "_view_name": "LayoutView",
            "grid_template_rows": null,
            "right": null,
            "justify_content": null,
            "_view_module": "@jupyter-widgets/base",
            "overflow": null,
            "_model_module_version": "1.2.0",
            "_view_count": null,
            "flex_flow": null,
            "width": null,
            "min_width": null,
            "border": null,
            "align_items": null,
            "bottom": null,
            "_model_module": "@jupyter-widgets/base",
            "top": null,
            "grid_column": null,
            "overflow_y": null,
            "overflow_x": null,
            "grid_auto_flow": null,
            "grid_area": null,
            "grid_template_columns": null,
            "flex": null,
            "_model_name": "LayoutModel",
            "justify_items": null,
            "grid_row": null,
            "max_height": null,
            "align_content": null,
            "visibility": null,
            "align_self": null,
            "height": null,
            "min_height": null,
            "padding": null,
            "grid_auto_rows": null,
            "grid_gap": null,
            "max_width": null,
            "order": null,
            "_view_module_version": "1.2.0",
            "grid_template_areas": null,
            "object_position": null,
            "object_fit": null,
            "grid_auto_columns": null,
            "margin": null,
            "display": null,
            "left": null
          }
        },
        "5f2d1c9973374eac99e08f9e51071c10": {
          "model_module": "@jupyter-widgets/controls",
          "model_name": "ProgressStyleModel",
          "model_module_version": "1.5.0",
          "state": {
            "_view_name": "StyleView",
            "_model_name": "ProgressStyleModel",
            "description_width": "",
            "_view_module": "@jupyter-widgets/base",
            "_model_module_version": "1.5.0",
            "_view_count": null,
            "_view_module_version": "1.2.0",
            "bar_color": null,
            "_model_module": "@jupyter-widgets/controls"
          }
        },
        "00ceea7dc4d64db0a688b4e76228c74b": {
          "model_module": "@jupyter-widgets/base",
          "model_name": "LayoutModel",
          "model_module_version": "1.2.0",
          "state": {
            "_view_name": "LayoutView",
            "grid_template_rows": null,
            "right": null,
            "justify_content": null,
            "_view_module": "@jupyter-widgets/base",
            "overflow": null,
            "_model_module_version": "1.2.0",
            "_view_count": null,
            "flex_flow": null,
            "width": null,
            "min_width": null,
            "border": null,
            "align_items": null,
            "bottom": null,
            "_model_module": "@jupyter-widgets/base",
            "top": null,
            "grid_column": null,
            "overflow_y": null,
            "overflow_x": null,
            "grid_auto_flow": null,
            "grid_area": null,
            "grid_template_columns": null,
            "flex": null,
            "_model_name": "LayoutModel",
            "justify_items": null,
            "grid_row": null,
            "max_height": null,
            "align_content": null,
            "visibility": null,
            "align_self": null,
            "height": null,
            "min_height": null,
            "padding": null,
            "grid_auto_rows": null,
            "grid_gap": null,
            "max_width": null,
            "order": null,
            "_view_module_version": "1.2.0",
            "grid_template_areas": null,
            "object_position": null,
            "object_fit": null,
            "grid_auto_columns": null,
            "margin": null,
            "display": null,
            "left": null
          }
        },
        "17aec1246afe4550b8f8e47d061d8d88": {
          "model_module": "@jupyter-widgets/controls",
          "model_name": "DescriptionStyleModel",
          "model_module_version": "1.5.0",
          "state": {
            "_view_name": "StyleView",
            "_model_name": "DescriptionStyleModel",
            "description_width": "",
            "_view_module": "@jupyter-widgets/base",
            "_model_module_version": "1.5.0",
            "_view_count": null,
            "_view_module_version": "1.2.0",
            "_model_module": "@jupyter-widgets/controls"
          }
        },
        "b74057c00fa142bdbde6114b72a4c860": {
          "model_module": "@jupyter-widgets/base",
          "model_name": "LayoutModel",
          "model_module_version": "1.2.0",
          "state": {
            "_view_name": "LayoutView",
            "grid_template_rows": null,
            "right": null,
            "justify_content": null,
            "_view_module": "@jupyter-widgets/base",
            "overflow": null,
            "_model_module_version": "1.2.0",
            "_view_count": null,
            "flex_flow": null,
            "width": null,
            "min_width": null,
            "border": null,
            "align_items": null,
            "bottom": null,
            "_model_module": "@jupyter-widgets/base",
            "top": null,
            "grid_column": null,
            "overflow_y": null,
            "overflow_x": null,
            "grid_auto_flow": null,
            "grid_area": null,
            "grid_template_columns": null,
            "flex": null,
            "_model_name": "LayoutModel",
            "justify_items": null,
            "grid_row": null,
            "max_height": null,
            "align_content": null,
            "visibility": null,
            "align_self": null,
            "height": null,
            "min_height": null,
            "padding": null,
            "grid_auto_rows": null,
            "grid_gap": null,
            "max_width": null,
            "order": null,
            "_view_module_version": "1.2.0",
            "grid_template_areas": null,
            "object_position": null,
            "object_fit": null,
            "grid_auto_columns": null,
            "margin": null,
            "display": null,
            "left": null
          }
        }
      }
    }
  },
  "nbformat": 4,
  "nbformat_minor": 0
}